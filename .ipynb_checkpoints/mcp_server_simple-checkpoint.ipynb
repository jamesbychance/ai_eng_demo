{
 "cells": [
  {
   "cell_type": "markdown",
   "id": "aa2bf2dc-9419-4f0d-9657-cb54378b0179",
   "metadata": {},
   "source": [
    "# Simple MCP server setup"
   ]
  },
  {
   "cell_type": "markdown",
   "id": "890e380b-4785-4867-b5eb-c21114178c0f",
   "metadata": {},
   "source": [
    "## What is a MCP (Model Context Protocol) server?\n",
    "A way for AI apps (like Claude) to call to make function/tool calls. That's it. Its like a USB for agents that exports functionality"
   ]
  },
  {
   "cell_type": "markdown",
   "id": "6551d726-b388-4f9b-af33-b1be09e80f9f",
   "metadata": {},
   "source": [
    "## Important: Run as Python file, NOT in Jupyter\n",
    "MCP servers need proper stdin/stdout streams. Save as server.py and run from terminal."
   ]
  },
  {
   "cell_type": "markdown",
   "id": "dfec1879-b578-4075-b85b-971bb925b41e",
   "metadata": {},
   "source": [
    "## Minimal working server"
   ]
  },
  {
   "cell_type": "markdown",
   "id": "a1cabeaf-7180-41c6-ac0e-2bfdaf3464bb",
   "metadata": {},
   "source": [
    "### 1. Install"
   ]
  },
  {
   "cell_type": "raw",
   "id": "257470d9-dcfb-4b3a-9092-5c34e60749c5",
   "metadata": {},
   "source": [
    "$ pip install mcp"
   ]
  },
  {
   "cell_type": "markdown",
   "id": "266117f0-7329-4803-a36a-c0427d24e6b7",
   "metadata": {},
   "source": [
    "### 2. Create server\n",
    "**Reminder:** do not run this in the notebook! save as server.py and run it as a python file."
   ]
  },
  {
   "cell_type": "code",
   "execution_count": null,
   "id": "bdf2fbf4-a672-4341-8cfc-c54772b0ad16",
   "metadata": {},
   "outputs": [],
   "source": [
    "# import the mcp server class and asyncio for asynchronous operation\n",
    "from mcp.server import Server\n",
    "import asyncio\n",
    "\n",
    "# create a server instance with a name\n",
    "server = Server(\"my-server\")                              # AI clients use this to identify your server\n",
    "\n",
    "# decorator that registers this function as a tool that can be called\n",
    "@server.call_tool()\n",
    "async def hello(arguments: dict):\n",
    "    # extract the name parameter from arguments\n",
    "    name = arguments.get('name', 'world')                 # if no name provided, default to 'world'\n",
    "    return(f\"hello, {name}!\")                             # AI will receive this as the function result\n",
    "\n",
    "# Main function that starts the server\n",
    "async def main():\n",
    "    # Import stdio transport \n",
    "    from mcp.server.stdio import stdio_server             # this handles communication via standard input/output\n",
    "    # Create stdio streams and run the server with them\n",
    "    async with stdio_server() as streams:\n",
    "        # Start the server and pass the input/output streams\n",
    "        await server.run(*streams)\n",
    "\n",
    "if __name__ == \"__main__\":\n",
    "    # FOR PYTHON file: save as server.py and run python server.py\n",
    "    asyncio.run(main())"
   ]
  },
  {
   "cell_type": "markdown",
   "id": "4a9857eb-7b96-4c1d-a538-b14371e4c1f9",
   "metadata": {},
   "source": [
    "## 3. Save as server.py and run it!"
   ]
  },
  {
   "cell_type": "raw",
   "id": "85708ff3-159d-4652-b016-b787d1895e21",
   "metadata": {},
   "source": [
    "$ python3 server.py"
   ]
  },
  {
   "cell_type": "markdown",
   "id": "7830a523-71c2-4e93-a3bc-839463f06c9a",
   "metadata": {},
   "source": [
    "Note: \n",
    "- This won't work in Jupyter notebooks because MCP needs proper stdin/stdout streams \n",
    "- Must be run it as a standalone Python file\n",
    "- That's it. I now have an MCP server that Claude can call"
   ]
  },
  {
   "cell_type": "markdown",
   "id": "0ada241e-52c5-4a46-bd4b-864b36b9b286",
   "metadata": {},
   "source": [
    "### How this works...\n",
    "1. AI sends: {\"method\": \"tools/call\", \"params\": {\"name\": \"hello\", \"arguments\": {\"name\": \"Jamesbychance\"}}}\n",
    "2. Your function runs: hello({\"name\": \"Jamesbychance\"})\n",
    "3. AI gets back: \"Hello Jamesbychance!\""
   ]
  },
  {
   "cell_type": "code",
   "execution_count": null,
   "id": "2fad67c6-f274-43d0-b8e8-d8d91eed20aa",
   "metadata": {},
   "outputs": [],
   "source": []
  }
 ],
 "metadata": {
  "kernelspec": {
   "display_name": "Python 3 (ipykernel)",
   "language": "python",
   "name": "python3"
  },
  "language_info": {
   "codemirror_mode": {
    "name": "ipython",
    "version": 3
   },
   "file_extension": ".py",
   "mimetype": "text/x-python",
   "name": "python",
   "nbconvert_exporter": "python",
   "pygments_lexer": "ipython3",
   "version": "3.12.8"
  }
 },
 "nbformat": 4,
 "nbformat_minor": 5
}
